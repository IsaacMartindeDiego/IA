{
  "nbformat": 4,
  "nbformat_minor": 0,
  "metadata": {
    "colab": {
      "provenance": [],
      "collapsed_sections": [],
      "authorship_tag": "ABX9TyP2pvddYbXB8nakBu3rAqa8",
      "include_colab_link": true
    },
    "kernelspec": {
      "name": "python3",
      "display_name": "Python 3"
    },
    "language_info": {
      "name": "python"
    }
  },
  "cells": [
    {
      "cell_type": "markdown",
      "metadata": {
        "id": "view-in-github",
        "colab_type": "text"
      },
      "source": [
        "<a href=\"https://colab.research.google.com/github/IsaacMartindeDiego/IA/blob/master/Clasificaci%C3%B3n.ipynb\" target=\"_parent\"><img src=\"https://colab.research.google.com/assets/colab-badge.svg\" alt=\"Open In Colab\"/></a>"
      ]
    },
    {
      "cell_type": "markdown",
      "source": [
        "En este cuaderno trabajaremos con el conjunto de datos de cáncer de mama de Wisconsin, que registra las mediciones clínicas de los tumores de cáncer de mama. Cada tumor se etiqueta como \"benigno\" (para tumores inofensivos) o \"maligno\" (para tumores cancerígenos). Lay la tarea consiste en aprender a predecir si un tumor es maligno basándose en las mediciones del tejido.\n"
      ],
      "metadata": {
        "id": "MWi-eBL5ASa2"
      }
    },
    {
      "cell_type": "markdown",
      "source": [
        "#**Adquisición de datos**\n",
        "\n",
        "En este caso, como los datos están en la librería scikit-learn los podemos leer con la función load_brest_cancer."
      ],
      "metadata": {
        "id": "qdx7i-tnBqG7"
      }
    },
    {
      "cell_type": "code",
      "source": [
        "# The data can be loaded using the load_breast_cancer function from scikit-learn\n",
        "from sklearn.datasets import load_breast_cancer\n",
        "import numpy as np\n",
        "cancer=load_breast_cancer()\n",
        "print(\"cancer.keys(): {}\".format(cancer.keys()))"
      ],
      "metadata": {
        "colab": {
          "base_uri": "https://localhost:8080/"
        },
        "id": "gPw1ZPjGBka-",
        "outputId": "513bbe6f-08f0-47cf-8208-adef6161c2d3"
      },
      "execution_count": 7,
      "outputs": [
        {
          "output_type": "stream",
          "name": "stdout",
          "text": [
            "cancer.keys(): dict_keys(['data', 'target', 'frame', 'target_names', 'DESCR', 'feature_names', 'filename', 'data_module'])\n"
          ]
        }
      ]
    },
    {
      "cell_type": "code",
      "source": [
        "\n",
        "\n",
        "print('Shape of cancer data : {}'.format(cancer.data.shape))\n",
        "\n"
      ],
      "metadata": {
        "colab": {
          "base_uri": "https://localhost:8080/"
        },
        "id": "yx6xfnDLC2lb",
        "outputId": "f14fc1af-1692-4d6b-a9bf-55cc7691ff9f"
      },
      "execution_count": 2,
      "outputs": [
        {
          "output_type": "stream",
          "name": "stdout",
          "text": [
            "Shape of cancer data : (569, 30)\n"
          ]
        }
      ]
    },
    {
      "cell_type": "markdown",
      "source": [
        "Comprobamos la distribución de la variable objetivo."
      ],
      "metadata": {
        "id": "IYNJbnubC9Rd"
      }
    },
    {
      "cell_type": "code",
      "source": [
        "print(\"Frecuencia por clase:\\n{}\".format({n: v for n, v in zip(cancer.target_names, np.bincount(cancer.target))}))"
      ],
      "metadata": {
        "colab": {
          "base_uri": "https://localhost:8080/"
        },
        "id": "7dziGtKIDBDn",
        "outputId": "da6de302-4117-4c8f-9e57-cb63bc324033"
      },
      "execution_count": 4,
      "outputs": [
        {
          "output_type": "stream",
          "name": "stdout",
          "text": [
            "Frecuencia por clase:\n",
            "{'malignant': 212, 'benign': 357}\n"
          ]
        }
      ]
    },
    {
      "cell_type": "markdown",
      "source": [
        "A continuación vemos las características que emplearemos para predecir la variable respuesta."
      ],
      "metadata": {
        "id": "9-hV8oa1DuaT"
      }
    },
    {
      "cell_type": "code",
      "source": [
        "\n",
        "\n",
        "print('Feature names:{}'.format(cancer.feature_names))\n",
        "\n"
      ],
      "metadata": {
        "colab": {
          "base_uri": "https://localhost:8080/"
        },
        "id": "3smb0iD1Dz6K",
        "outputId": "e68b6459-948d-40e0-f765-a312e0b71494"
      },
      "execution_count": 5,
      "outputs": [
        {
          "output_type": "stream",
          "name": "stdout",
          "text": [
            "Feature names:['mean radius' 'mean texture' 'mean perimeter' 'mean area'\n",
            " 'mean smoothness' 'mean compactness' 'mean concavity'\n",
            " 'mean concave points' 'mean symmetry' 'mean fractal dimension'\n",
            " 'radius error' 'texture error' 'perimeter error' 'area error'\n",
            " 'smoothness error' 'compactness error' 'concavity error'\n",
            " 'concave points error' 'symmetry error' 'fractal dimension error'\n",
            " 'worst radius' 'worst texture' 'worst perimeter' 'worst area'\n",
            " 'worst smoothness' 'worst compactness' 'worst concavity'\n",
            " 'worst concave points' 'worst symmetry' 'worst fractal dimension']\n"
          ]
        }
      ]
    },
    {
      "cell_type": "markdown",
      "source": [
        "# **Crear la muestra de test y de entrenamiento**\n",
        "\n",
        "Particionamos los datos en dos conjuntos para entrenar nuestro modelo y para validarlo después."
      ],
      "metadata": {
        "id": "y1aeO6wSE8hE"
      }
    },
    {
      "cell_type": "code",
      "source": [
        "from sklearn.model_selection import train_test_split\n",
        "\n",
        "X_train,X_test,y_train,y_test=train_test_split(cancer.data,\n",
        "                                              cancer.target,\n",
        "                                              random_state=0)\n",
        "print('X_train shape: {}'.format(X_train.shape))\n",
        "print('y_train shape: {}'.format(y_train.shape))\n",
        "print('X_test shape: {}'.format(X_test.shape))\n",
        "print('y_test shape: {}'.format(y_test.shape))"
      ],
      "metadata": {
        "colab": {
          "base_uri": "https://localhost:8080/"
        },
        "id": "thXxbTy4Fo2-",
        "outputId": "959378da-7a29-4853-a4cd-fdee9e1bd770"
      },
      "execution_count": 8,
      "outputs": [
        {
          "output_type": "stream",
          "name": "stdout",
          "text": [
            "X_train shape: (426, 30)\n",
            "y_train shape: (426,)\n",
            "X_test shape: (143, 30)\n",
            "y_test shape: (143,)\n"
          ]
        }
      ]
    },
    {
      "cell_type": "markdown",
      "source": [
        "y creamos y visualizamos el **Data Frame** con la estructura adecuada para su explotación."
      ],
      "metadata": {
        "id": "n0_EPKG0Hlxs"
      }
    },
    {
      "cell_type": "code",
      "source": [
        "import pandas as pd\n",
        "\n",
        "df=pd.DataFrame(X_train,columns=cancer.feature_names)\n",
        "\n",
        "# looking at dataframe\n",
        "df.head()"
      ],
      "metadata": {
        "colab": {
          "base_uri": "https://localhost:8080/",
          "height": 314
        },
        "id": "pk6PIiwWHpTP",
        "outputId": "75241d3f-7bc0-4fd8-8d85-5fdd11f5f2ac"
      },
      "execution_count": 9,
      "outputs": [
        {
          "output_type": "execute_result",
          "data": {
            "text/plain": [
              "   mean radius  mean texture  mean perimeter  mean area  mean smoothness  \\\n",
              "0        11.85         17.46           75.54      432.7          0.08372   \n",
              "1        11.22         19.86           71.94      387.3          0.10540   \n",
              "2        20.13         28.25          131.20     1261.0          0.09780   \n",
              "3        13.59         17.84           86.24      572.3          0.07948   \n",
              "4        16.69         20.20          107.10      857.6          0.07497   \n",
              "\n",
              "   mean compactness  mean concavity  mean concave points  mean symmetry  \\\n",
              "0           0.05642        0.026880             0.022800         0.1875   \n",
              "1           0.06779        0.005006             0.007583         0.1940   \n",
              "2           0.10340        0.144000             0.097910         0.1752   \n",
              "3           0.04052        0.019970             0.012380         0.1573   \n",
              "4           0.07112        0.036490             0.023070         0.1846   \n",
              "\n",
              "   mean fractal dimension  ...  worst radius  worst texture  worst perimeter  \\\n",
              "0                 0.05715  ...         13.06          25.75            84.35   \n",
              "1                 0.06028  ...         11.98          25.78            76.91   \n",
              "2                 0.05533  ...         23.69          38.25           155.00   \n",
              "3                 0.05520  ...         15.50          26.10            98.91   \n",
              "4                 0.05325  ...         19.18          26.56           127.30   \n",
              "\n",
              "   worst area  worst smoothness  worst compactness  worst concavity  \\\n",
              "0       517.8            0.1369            0.17580          0.13160   \n",
              "1       436.1            0.1424            0.09669          0.01335   \n",
              "2      1731.0            0.1166            0.19220          0.32150   \n",
              "3       739.1            0.1050            0.07622          0.10600   \n",
              "4      1084.0            0.1009            0.29200          0.24770   \n",
              "\n",
              "   worst concave points  worst symmetry  worst fractal dimension  \n",
              "0               0.09140          0.3101                  0.07007  \n",
              "1               0.02022          0.3292                  0.06522  \n",
              "2               0.16280          0.2572                  0.06637  \n",
              "3               0.05185          0.2335                  0.06263  \n",
              "4               0.08737          0.4677                  0.07623  \n",
              "\n",
              "[5 rows x 30 columns]"
            ],
            "text/html": [
              "\n",
              "  <div id=\"df-29db62b4-460d-4f36-9e01-b50f4c6a5a02\">\n",
              "    <div class=\"colab-df-container\">\n",
              "      <div>\n",
              "<style scoped>\n",
              "    .dataframe tbody tr th:only-of-type {\n",
              "        vertical-align: middle;\n",
              "    }\n",
              "\n",
              "    .dataframe tbody tr th {\n",
              "        vertical-align: top;\n",
              "    }\n",
              "\n",
              "    .dataframe thead th {\n",
              "        text-align: right;\n",
              "    }\n",
              "</style>\n",
              "<table border=\"1\" class=\"dataframe\">\n",
              "  <thead>\n",
              "    <tr style=\"text-align: right;\">\n",
              "      <th></th>\n",
              "      <th>mean radius</th>\n",
              "      <th>mean texture</th>\n",
              "      <th>mean perimeter</th>\n",
              "      <th>mean area</th>\n",
              "      <th>mean smoothness</th>\n",
              "      <th>mean compactness</th>\n",
              "      <th>mean concavity</th>\n",
              "      <th>mean concave points</th>\n",
              "      <th>mean symmetry</th>\n",
              "      <th>mean fractal dimension</th>\n",
              "      <th>...</th>\n",
              "      <th>worst radius</th>\n",
              "      <th>worst texture</th>\n",
              "      <th>worst perimeter</th>\n",
              "      <th>worst area</th>\n",
              "      <th>worst smoothness</th>\n",
              "      <th>worst compactness</th>\n",
              "      <th>worst concavity</th>\n",
              "      <th>worst concave points</th>\n",
              "      <th>worst symmetry</th>\n",
              "      <th>worst fractal dimension</th>\n",
              "    </tr>\n",
              "  </thead>\n",
              "  <tbody>\n",
              "    <tr>\n",
              "      <th>0</th>\n",
              "      <td>11.85</td>\n",
              "      <td>17.46</td>\n",
              "      <td>75.54</td>\n",
              "      <td>432.7</td>\n",
              "      <td>0.08372</td>\n",
              "      <td>0.05642</td>\n",
              "      <td>0.026880</td>\n",
              "      <td>0.022800</td>\n",
              "      <td>0.1875</td>\n",
              "      <td>0.05715</td>\n",
              "      <td>...</td>\n",
              "      <td>13.06</td>\n",
              "      <td>25.75</td>\n",
              "      <td>84.35</td>\n",
              "      <td>517.8</td>\n",
              "      <td>0.1369</td>\n",
              "      <td>0.17580</td>\n",
              "      <td>0.13160</td>\n",
              "      <td>0.09140</td>\n",
              "      <td>0.3101</td>\n",
              "      <td>0.07007</td>\n",
              "    </tr>\n",
              "    <tr>\n",
              "      <th>1</th>\n",
              "      <td>11.22</td>\n",
              "      <td>19.86</td>\n",
              "      <td>71.94</td>\n",
              "      <td>387.3</td>\n",
              "      <td>0.10540</td>\n",
              "      <td>0.06779</td>\n",
              "      <td>0.005006</td>\n",
              "      <td>0.007583</td>\n",
              "      <td>0.1940</td>\n",
              "      <td>0.06028</td>\n",
              "      <td>...</td>\n",
              "      <td>11.98</td>\n",
              "      <td>25.78</td>\n",
              "      <td>76.91</td>\n",
              "      <td>436.1</td>\n",
              "      <td>0.1424</td>\n",
              "      <td>0.09669</td>\n",
              "      <td>0.01335</td>\n",
              "      <td>0.02022</td>\n",
              "      <td>0.3292</td>\n",
              "      <td>0.06522</td>\n",
              "    </tr>\n",
              "    <tr>\n",
              "      <th>2</th>\n",
              "      <td>20.13</td>\n",
              "      <td>28.25</td>\n",
              "      <td>131.20</td>\n",
              "      <td>1261.0</td>\n",
              "      <td>0.09780</td>\n",
              "      <td>0.10340</td>\n",
              "      <td>0.144000</td>\n",
              "      <td>0.097910</td>\n",
              "      <td>0.1752</td>\n",
              "      <td>0.05533</td>\n",
              "      <td>...</td>\n",
              "      <td>23.69</td>\n",
              "      <td>38.25</td>\n",
              "      <td>155.00</td>\n",
              "      <td>1731.0</td>\n",
              "      <td>0.1166</td>\n",
              "      <td>0.19220</td>\n",
              "      <td>0.32150</td>\n",
              "      <td>0.16280</td>\n",
              "      <td>0.2572</td>\n",
              "      <td>0.06637</td>\n",
              "    </tr>\n",
              "    <tr>\n",
              "      <th>3</th>\n",
              "      <td>13.59</td>\n",
              "      <td>17.84</td>\n",
              "      <td>86.24</td>\n",
              "      <td>572.3</td>\n",
              "      <td>0.07948</td>\n",
              "      <td>0.04052</td>\n",
              "      <td>0.019970</td>\n",
              "      <td>0.012380</td>\n",
              "      <td>0.1573</td>\n",
              "      <td>0.05520</td>\n",
              "      <td>...</td>\n",
              "      <td>15.50</td>\n",
              "      <td>26.10</td>\n",
              "      <td>98.91</td>\n",
              "      <td>739.1</td>\n",
              "      <td>0.1050</td>\n",
              "      <td>0.07622</td>\n",
              "      <td>0.10600</td>\n",
              "      <td>0.05185</td>\n",
              "      <td>0.2335</td>\n",
              "      <td>0.06263</td>\n",
              "    </tr>\n",
              "    <tr>\n",
              "      <th>4</th>\n",
              "      <td>16.69</td>\n",
              "      <td>20.20</td>\n",
              "      <td>107.10</td>\n",
              "      <td>857.6</td>\n",
              "      <td>0.07497</td>\n",
              "      <td>0.07112</td>\n",
              "      <td>0.036490</td>\n",
              "      <td>0.023070</td>\n",
              "      <td>0.1846</td>\n",
              "      <td>0.05325</td>\n",
              "      <td>...</td>\n",
              "      <td>19.18</td>\n",
              "      <td>26.56</td>\n",
              "      <td>127.30</td>\n",
              "      <td>1084.0</td>\n",
              "      <td>0.1009</td>\n",
              "      <td>0.29200</td>\n",
              "      <td>0.24770</td>\n",
              "      <td>0.08737</td>\n",
              "      <td>0.4677</td>\n",
              "      <td>0.07623</td>\n",
              "    </tr>\n",
              "  </tbody>\n",
              "</table>\n",
              "<p>5 rows × 30 columns</p>\n",
              "</div>\n",
              "      <button class=\"colab-df-convert\" onclick=\"convertToInteractive('df-29db62b4-460d-4f36-9e01-b50f4c6a5a02')\"\n",
              "              title=\"Convert this dataframe to an interactive table.\"\n",
              "              style=\"display:none;\">\n",
              "        \n",
              "  <svg xmlns=\"http://www.w3.org/2000/svg\" height=\"24px\"viewBox=\"0 0 24 24\"\n",
              "       width=\"24px\">\n",
              "    <path d=\"M0 0h24v24H0V0z\" fill=\"none\"/>\n",
              "    <path d=\"M18.56 5.44l.94 2.06.94-2.06 2.06-.94-2.06-.94-.94-2.06-.94 2.06-2.06.94zm-11 1L8.5 8.5l.94-2.06 2.06-.94-2.06-.94L8.5 2.5l-.94 2.06-2.06.94zm10 10l.94 2.06.94-2.06 2.06-.94-2.06-.94-.94-2.06-.94 2.06-2.06.94z\"/><path d=\"M17.41 7.96l-1.37-1.37c-.4-.4-.92-.59-1.43-.59-.52 0-1.04.2-1.43.59L10.3 9.45l-7.72 7.72c-.78.78-.78 2.05 0 2.83L4 21.41c.39.39.9.59 1.41.59.51 0 1.02-.2 1.41-.59l7.78-7.78 2.81-2.81c.8-.78.8-2.07 0-2.86zM5.41 20L4 18.59l7.72-7.72 1.47 1.35L5.41 20z\"/>\n",
              "  </svg>\n",
              "      </button>\n",
              "      \n",
              "  <style>\n",
              "    .colab-df-container {\n",
              "      display:flex;\n",
              "      flex-wrap:wrap;\n",
              "      gap: 12px;\n",
              "    }\n",
              "\n",
              "    .colab-df-convert {\n",
              "      background-color: #E8F0FE;\n",
              "      border: none;\n",
              "      border-radius: 50%;\n",
              "      cursor: pointer;\n",
              "      display: none;\n",
              "      fill: #1967D2;\n",
              "      height: 32px;\n",
              "      padding: 0 0 0 0;\n",
              "      width: 32px;\n",
              "    }\n",
              "\n",
              "    .colab-df-convert:hover {\n",
              "      background-color: #E2EBFA;\n",
              "      box-shadow: 0px 1px 2px rgba(60, 64, 67, 0.3), 0px 1px 3px 1px rgba(60, 64, 67, 0.15);\n",
              "      fill: #174EA6;\n",
              "    }\n",
              "\n",
              "    [theme=dark] .colab-df-convert {\n",
              "      background-color: #3B4455;\n",
              "      fill: #D2E3FC;\n",
              "    }\n",
              "\n",
              "    [theme=dark] .colab-df-convert:hover {\n",
              "      background-color: #434B5C;\n",
              "      box-shadow: 0px 1px 3px 1px rgba(0, 0, 0, 0.15);\n",
              "      filter: drop-shadow(0px 1px 2px rgba(0, 0, 0, 0.3));\n",
              "      fill: #FFFFFF;\n",
              "    }\n",
              "  </style>\n",
              "\n",
              "      <script>\n",
              "        const buttonEl =\n",
              "          document.querySelector('#df-29db62b4-460d-4f36-9e01-b50f4c6a5a02 button.colab-df-convert');\n",
              "        buttonEl.style.display =\n",
              "          google.colab.kernel.accessAllowed ? 'block' : 'none';\n",
              "\n",
              "        async function convertToInteractive(key) {\n",
              "          const element = document.querySelector('#df-29db62b4-460d-4f36-9e01-b50f4c6a5a02');\n",
              "          const dataTable =\n",
              "            await google.colab.kernel.invokeFunction('convertToInteractive',\n",
              "                                                     [key], {});\n",
              "          if (!dataTable) return;\n",
              "\n",
              "          const docLinkHtml = 'Like what you see? Visit the ' +\n",
              "            '<a target=\"_blank\" href=https://colab.research.google.com/notebooks/data_table.ipynb>data table notebook</a>'\n",
              "            + ' to learn more about interactive tables.';\n",
              "          element.innerHTML = '';\n",
              "          dataTable['output_type'] = 'display_data';\n",
              "          await google.colab.output.renderOutput(dataTable, element);\n",
              "          const docLink = document.createElement('div');\n",
              "          docLink.innerHTML = docLinkHtml;\n",
              "          element.appendChild(docLink);\n",
              "        }\n",
              "      </script>\n",
              "    </div>\n",
              "  </div>\n",
              "  "
            ]
          },
          "metadata": {},
          "execution_count": 9
        }
      ]
    },
    {
      "cell_type": "markdown",
      "source": [
        "# **Modelización**\n",
        "\n",
        "Elegimos un modelo sencillo, el modelo de los *K vecinos más cercanos*. La clase de una nueva observación se aprende a partir de las clases de las *K* observaciones más cercanas de acuerdo a una distancia predefinida."
      ],
      "metadata": {
        "id": "CkqD7-YFHxz7"
      }
    },
    {
      "cell_type": "code",
      "source": [
        "\n",
        "\n",
        "from sklearn.neighbors import KNeighborsClassifier\n",
        "knn=KNeighborsClassifier(n_neighbors=1)\n",
        "knn.fit(X_train,y_train)\n",
        "\n"
      ],
      "metadata": {
        "id": "-3O3XwQkH8rg"
      },
      "execution_count": null,
      "outputs": []
    },
    {
      "cell_type": "markdown",
      "source": [
        "Una vez entrenado el modelo, podemos pasar a usarlo para la predicción de nuevas observaciones (test)."
      ],
      "metadata": {
        "id": "DeVfY09MKEmv"
      }
    },
    {
      "cell_type": "code",
      "source": [
        "\n",
        "\n",
        "prediction=knn.predict(X_test)\n",
        "prediction\n",
        "\n",
        "from sklearn.metrics import accuracy_score\n",
        "accuracy_score(y_test, prediction)\n",
        "#print('Train Test Score: {:.2f}'.format(np.mean(prediction==y_test)))\n",
        "\n"
      ],
      "metadata": {
        "colab": {
          "base_uri": "https://localhost:8080/"
        },
        "id": "enYgO0HZKV7M",
        "outputId": "3f0e0ae6-07b2-4168-d2a3-7a8207f7239e"
      },
      "execution_count": 19,
      "outputs": [
        {
          "output_type": "execute_result",
          "data": {
            "text/plain": [
              "0.916083916083916"
            ]
          },
          "metadata": {},
          "execution_count": 19
        }
      ]
    },
    {
      "cell_type": "markdown",
      "source": [
        "Matriz de confusión"
      ],
      "metadata": {
        "id": "nUeFKZ8DK0sA"
      }
    },
    {
      "cell_type": "code",
      "source": [
        "from sklearn.metrics import confusion_matrix\n",
        "import seaborn as sns; sns.set()\n",
        "import matplotlib.pyplot as plt\n",
        "\n",
        "\n",
        "mat = confusion_matrix(y_test, prediction)\n",
        "\n",
        "sns.heatmap(mat, square=True, annot=True, cbar=False)\n",
        "plt.xlabel('predicted value')\n",
        "plt.ylabel('true value');"
      ],
      "metadata": {
        "colab": {
          "base_uri": "https://localhost:8080/",
          "height": 285
        },
        "id": "tlK_eRmRK6r7",
        "outputId": "73ff4969-ed31-4c39-da20-ad79c8e2fcf7"
      },
      "execution_count": 16,
      "outputs": [
        {
          "output_type": "display_data",
          "data": {
            "text/plain": [
              "<Figure size 432x288 with 1 Axes>"
            ],
            "image/png": "[encoded data removed]"
          },
          "metadata": {}
        }
      ]
    },
    {
      "cell_type": "markdown",
      "source": [
        "# **Ajuste de los parámetros del modelo**\n",
        "\n",
        "Estudiamos el efecto del parámetro del modelo"
      ],
      "metadata": {
        "id": "AnmJN1IeMYIm"
      }
    },
    {
      "cell_type": "code",
      "source": [
        "\n",
        "\n",
        "training_error=[]\n",
        "test_error=[]\n",
        "# n vecinos de 1 a 15\n",
        "neighbors_setting=range(1,15)\n",
        "\n",
        "for n_neighbores in neighbors_setting:\n",
        "    #construimos el modelo\n",
        "    clf=KNeighborsClassifier(n_neighbors=n_neighbores)\n",
        "    clf.fit(X_train,y_train)\n",
        "    training_error.append(1-clf.score(X_train,y_train))\n",
        "    test_error.append(1-clf.score(X_test,y_test))\n",
        "\n",
        "\n",
        "plt.plot(neighbors_setting,training_error,label='training_accuracy')\n",
        "plt.plot(neighbors_setting,test_error,label='test accuracy')\n",
        "plt.ylabel('Error')\n",
        "plt.xlabel('Número de vecinos, K')\n",
        "plt.show()\n",
        "\n"
      ],
      "metadata": {
        "colab": {
          "base_uri": "https://localhost:8080/",
          "height": 285
        },
        "id": "MzcrExY-Mfdn",
        "outputId": "27de2926-ae79-421d-a593-bed45e12de82"
      },
      "execution_count": 26,
      "outputs": [
        {
          "output_type": "display_data",
          "data": {
            "text/plain": [
              "<Figure size 432x288 with 1 Axes>"
            ],
            "image/png": "[encoded data removed]"
          },
          "metadata": {}
        }
      ]
    }
  ]
}