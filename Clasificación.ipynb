{
  "nbformat": 4,
  "nbformat_minor": 0,
  "metadata": {
    "colab": {
      "provenance": [],
      "authorship_tag": "ABX9TyNUzFgWOCk8VggD2wH5WRfw",
      "include_colab_link": true
    },
    "kernelspec": {
      "name": "python3",
      "display_name": "Python 3"
    },
    "language_info": {
      "name": "python"
    }
  },
  "cells": [
    {
      "cell_type": "markdown",
      "metadata": {
        "id": "view-in-github",
        "colab_type": "text"
      },
      "source": [
        "<a href=\"https://colab.research.google.com/github/IsaacMartindeDiego/IA/blob/master/Clasificaci%C3%B3n.ipynb\" target=\"_parent\"><img src=\"https://colab.research.google.com/assets/colab-badge.svg\" alt=\"Open In Colab\"/></a>"
      ]
    },
    {
      "cell_type": "markdown",
      "source": [
        "En este cuaderno trabajaremos con el conjunto de datos de cáncer de mama de Wisconsin, que registra las mediciones clínicas de los tumores de cáncer de mama. Cada tumor se etiqueta como \"benigno\" (para tumores inofensivos) o \"maligno\" (para tumores cancerígenos). Lay la tarea consiste en aprender a predecir si un tumor es maligno basándose en las mediciones del tejido.\n"
      ],
      "metadata": {
        "id": "MWi-eBL5ASa2"
      }
    }
  ]
}