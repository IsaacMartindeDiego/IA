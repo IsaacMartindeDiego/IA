{
  "nbformat": 4,
  "nbformat_minor": 0,
  "metadata": {
    "colab": {
      "provenance": [],
      "collapsed_sections": [],
      "authorship_tag": "ABX9TyOqZqfZUJmfOx8db0aUSCtp",
      "include_colab_link": true
    },
    "kernelspec": {
      "name": "python3",
      "display_name": "Python 3"
    },
    "language_info": {
      "name": "python"
    }
  },
  "cells": [
    {
      "cell_type": "markdown",
      "metadata": {
        "id": "view-in-github",
        "colab_type": "text"
      },
      "source": [
        "<a href=\"https://colab.research.google.com/github/IsaacMartindeDiego/IA/blob/master/Clasificaci%C3%B3n.ipynb\" target=\"_parent\"><img src=\"https://colab.research.google.com/assets/colab-badge.svg\" alt=\"Open In Colab\"/></a>"
      ]
    },
    {
      "cell_type": "markdown",
      "source": [
        "En este cuaderno trabajaremos con el conjunto de datos de cáncer de mama de Wisconsin, que registra las mediciones clínicas de los tumores de cáncer de mama. Cada tumor se etiqueta como \"benigno\" (para tumores inofensivos) o \"maligno\" (para tumores cancerígenos). Lay la tarea consiste en aprender a predecir si un tumor es maligno basándose en las mediciones del tejido.\n"
      ],
      "metadata": {
        "id": "MWi-eBL5ASa2"
      }
    },
    {
      "cell_type": "markdown",
      "source": [
        "#**Adquisición de datos**\n",
        "\n",
        "En este caso, como los datos están en la librería scikit-learn los podemos leer con la función load_brest_cancer."
      ],
      "metadata": {
        "id": "qdx7i-tnBqG7"
      }
    },
    {
      "cell_type": "code",
      "source": [
        "# The data can be loaded using the load_breast_cancer function from scikit-learn\n",
        "from sklearn.datasets import load_breast_cancer\n",
        "import numpy as np\n",
        "cancer=load_breast_cancer()\n",
        "print(\"cancer.keys(): {}\".format(cancer.keys()))"
      ],
      "metadata": {
        "colab": {
          "base_uri": "https://localhost:8080/"
        },
        "id": "gPw1ZPjGBka-",
        "outputId": "9bc10244-46cc-4d18-fa1f-df6a0f492ce8"
      },
      "execution_count": 1,
      "outputs": [
        {
          "output_type": "stream",
          "name": "stdout",
          "text": [
            "cancer.keys(): dict_keys(['data', 'target', 'frame', 'target_names', 'DESCR', 'feature_names', 'filename', 'data_module'])\n"
          ]
        }
      ]
    }
  ]
}